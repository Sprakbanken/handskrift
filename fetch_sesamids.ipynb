{
 "cells": [
  {
   "cell_type": "code",
   "execution_count": null,
   "id": "d67141ba",
   "metadata": {},
   "outputs": [],
   "source": [
    "import requests\n",
    "import json\n",
    "import time\n",
    "import re"
   ]
  },
  {
   "cell_type": "code",
   "execution_count": null,
   "id": "5717a8b8",
   "metadata": {},
   "outputs": [],
   "source": [
    "def get_attribute(data, attribute, default_value=''):\n",
    "    if data:\n",
    "        if attribute in data:\n",
    "            return data[attribute]\n",
    "        else:\n",
    "            return default_value\n",
    "    else:\n",
    "        return default_value\n",
    "\n",
    "def get_items_metadata(jsonObj):\n",
    "    items = dict()\n",
    "    if \"_embedded\" in jsonObj:\n",
    "        if \"items\" in jsonObj[\"_embedded\"]:\n",
    "            for item in jsonObj[\"_embedded\"][\"items\"]:\n",
    "                sesamid = item[\"id\"]\n",
    "                items[sesamid] = {}\n",
    "                if 'metadata' in item:\n",
    "                    items[sesamid]['creators'] = get_attribute(item['metadata'], 'creators')\n",
    "                    items[sesamid]['title'] = get_attribute(item['metadata'], 'title')\n",
    "                    items[sesamid]['identifiers'] = get_attribute(item['metadata'], 'identifiers')\n",
    "                if 'accessInfo' in item:\n",
    "                    items[sesamid]['isDigital'] = get_attribute(item['accessInfo'], 'isDigital')                \n",
    "        return items\n",
    "    else:\n",
    "        return None"
   ]
  },
  {
   "cell_type": "code",
   "execution_count": null,
   "id": "6d02f168",
   "metadata": {},
   "outputs": [],
   "source": [
    "query = {\"\"\"add more filter types from list below in the brackets\"\"\"\n",
    "        'filter':['mediatype:privatarkivmateriale'],\n",
    "        # filter types: \n",
    "            #'mediatype:privatarkivmateriale'\n",
    "            # 'api_namerecipients:\"garborg, hulda\"'\n",
    "            #'api_title:\"brevs. 929\"'\n",
    "            # 'api_namecreators:\"Backer, Harriet\"'\n",
    "            # 'api_namerecipient:\"Undset, Sigrid\"'\n",
    "            # 'date:[19000101 TO 19991231]'\n",
    "        #'&aggs=mediatype&aggs=year:9999&snippets=privatarkivmateriale&fragments=2&fragSize=500&size=50&profile=nbdigital\n",
    "        #'sort' :'firstDigitalContentTime,desc',\n",
    "        'digitalAccessibleOnly' :'true',\n",
    "        # size of each page (max appears to be 50, getting a 500 above that)\n",
    "        'size': 50,\n",
    "        #'snippets': 'aviser',\n",
    "        #'fragments':10\n",
    "        # få alle treff\n",
    "        'profile': 'nbdigital',\n",
    "        'scroll': True\n",
    "    }"
   ]
  },
  {
   "cell_type": "code",
   "execution_count": null,
   "id": "18badf0c",
   "metadata": {},
   "outputs": [],
   "source": [
    "itemDict = dict()\n",
    "next_page = True\n",
    "counter = 1\n",
    "r = requests.get(\"https://api.nb.no/catalog/v1/items\", params = query)\n",
    "obj = r.json()\n",
    "items = get_items_metadata(obj)\n",
    "itemDict.update(items)\n",
    "print(obj[\"page\"][\"totalElements\"], \"elementer totalt i\", obj[\"page\"][\"totalPages\"], \"bolker\")\n",
    "\n",
    "while next_page == True:\n",
    "    try:\n",
    "        link = obj[\"_links\"][\"next\"][\"href\"]\n",
    "    except:\n",
    "        next_page = False\n",
    "        continue\n",
    "        \n",
    "    print(counter)\n",
    "    counter += 1\n",
    "    r = requests.get(link)\n",
    "    obj = r.json()\n",
    "    items = get_items_metadata(obj)\n",
    "    itemDict.update(items)\n",
    "    time.sleep(0)"
   ]
  },
  {
   "cell_type": "code",
   "execution_count": null,
   "id": "85ccd406",
   "metadata": {},
   "outputs": [],
   "source": [
    "with open('sesamids.txt', 'w') as file:\n",
    "    for key in itemDict:\n",
    "        try:\n",
    "            file.write(key + '\\n')\n",
    "        except:\n",
    "            pass"
   ]
  },
  {
   "cell_type": "code",
   "execution_count": null,
   "id": "179fb3a7",
   "metadata": {},
   "outputs": [],
   "source": [
    "sesamids = []\n",
    "for key in itemDict:\n",
    "    sesamids.append(key)"
   ]
  },
  {
   "cell_type": "code",
   "execution_count": null,
   "id": "ffaa760e",
   "metadata": {},
   "outputs": [],
   "source": [
    "len(sesamids)"
   ]
  },
  {
   "cell_type": "code",
   "execution_count": null,
   "id": "beaa23af",
   "metadata": {},
   "outputs": [],
   "source": [
    "sesamids"
   ]
  }
 ],
 "metadata": {
  "kernelspec": {
   "display_name": "Python 3 (ipykernel)",
   "language": "python",
   "name": "python3"
  },
  "language_info": {
   "codemirror_mode": {
    "name": "ipython",
    "version": 3
   },
   "file_extension": ".py",
   "mimetype": "text/x-python",
   "name": "python",
   "nbconvert_exporter": "python",
   "pygments_lexer": "ipython3",
   "version": "3.10.9"
  }
 },
 "nbformat": 4,
 "nbformat_minor": 5
}
