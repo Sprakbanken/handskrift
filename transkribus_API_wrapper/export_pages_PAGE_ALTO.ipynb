{
 "cells": [
  {
   "cell_type": "code",
   "execution_count": null,
   "metadata": {},
   "outputs": [],
   "source": [
    "import json\n",
    "import random\n",
    "import re\n",
    "import subprocess\n",
    "import time\n",
    "\n",
    "import config as c\n",
    "import requests"
   ]
  },
  {
   "cell_type": "code",
   "execution_count": null,
   "metadata": {},
   "outputs": [],
   "source": [
    "# login to Transkribus\n",
    "my_session = requests.Session()\n",
    "my_session.post(\n",
    "    \"https://transkribus.eu/TrpServer/rest/auth/login\",\n",
    "    data={\"user\": c.login, \"pw\": c.password},\n",
    ")"
   ]
  },
  {
   "cell_type": "code",
   "execution_count": null,
   "metadata": {},
   "outputs": [],
   "source": [
    "# set collection id\n",
    "collid = \"72436\""
   ]
  },
  {
   "cell_type": "code",
   "execution_count": null,
   "metadata": {},
   "outputs": [],
   "source": [
    "# get docids and sesamids from Transkribus\n",
    "docs = my_session.get(\n",
    "    \"https://transkribus.eu/TrpServer/rest/collections/{}/list\".format(collid)\n",
    ")\n",
    "\n",
    "# only keep those records containing sesamid (regex check)\n",
    "filtered_docs = [\n",
    "    o for o in json.loads(docs.content) if re.findall(r\"([a-fA-F\\d]{32})\", o[\"title\"])\n",
    "]\n",
    "\n",
    "# extract ids\n",
    "docids = [o[\"docId\"] for o in filtered_docs if len(o[\"title\"]) == 32]"
   ]
  },
  {
   "cell_type": "markdown",
   "metadata": {},
   "source": [
    "Download Saxon HE, supports XSLT 2.0.\n",
    "https://www.saxonica.com/download/java.xml\n",
    "\n",
    "Unzip and insert the location below:"
   ]
  },
  {
   "cell_type": "code",
   "execution_count": null,
   "metadata": {},
   "outputs": [],
   "source": [
    "saxonLocation = \"/home/magbb/programs/saxon/saxon-he-10.3.jar\""
   ]
  },
  {
   "cell_type": "code",
   "execution_count": null,
   "metadata": {
    "scrolled": true
   },
   "outputs": [],
   "source": [
    "for docid in docids:\n",
    "    print(docid)\n",
    "    doc = my_session.get(\n",
    "        \"https://transkribus.eu/TrpServer/rest/collections/{}/{}/fulldoc\".format(\n",
    "            collid, docid\n",
    "        )\n",
    "    )\n",
    "\n",
    "    docRows = []\n",
    "\n",
    "    for page in json.loads(doc.content)[\"pageList\"][\"pages\"]:\n",
    "        pageNr = page[\"pageNr\"]\n",
    "        print(\"--\", pageNr)\n",
    "        page = my_session.get(\n",
    "            \"https://transkribus.eu/TrpServer/rest/collections/{}/{}/{}/text\".format(\n",
    "                collid, docid, pageNr\n",
    "            )\n",
    "        )\n",
    "\n",
    "        pagexmlName = (\n",
    "            \"PAGEXML\"\n",
    "            + \"_\"\n",
    "            + str(collid)\n",
    "            + \"_\"\n",
    "            + str(docid)\n",
    "            + \"_\"\n",
    "            + str(pageNr)\n",
    "            + \".xml\"\n",
    "        )\n",
    "        altoxmlName = (\n",
    "            \"ALTOXML\"\n",
    "            + \"_\"\n",
    "            + str(collid)\n",
    "            + \"_\"\n",
    "            + str(docid)\n",
    "            + \"_\"\n",
    "            + str(pageNr)\n",
    "            + \".xml\"\n",
    "        )\n",
    "\n",
    "        with open(\"docs/\" + pagexmlName, \"wb\") as f:\n",
    "            f.write(page.content)\n",
    "\n",
    "        # transform\n",
    "        subprocess.call(\n",
    "            [\n",
    "                \"java\",\n",
    "                \"-jar\",\n",
    "                saxonLocation,\n",
    "                \"-o:docs/%s\" % (altoxmlName),\n",
    "                \"-s:docs/%s\" % (pagexmlName),\n",
    "                \"xslt/PageToAltoWordLevel.xsl\",\n",
    "            ]\n",
    "        )\n",
    "\n",
    "        time.sleep(random.randint(0, 1))"
   ]
  }
 ],
 "metadata": {
  "kernelspec": {
   "display_name": "Python 3",
   "language": "python",
   "name": "python3"
  },
  "language_info": {
   "codemirror_mode": {
    "name": "ipython",
    "version": 3
   },
   "file_extension": ".py",
   "mimetype": "text/x-python",
   "name": "python",
   "nbconvert_exporter": "python",
   "pygments_lexer": "ipython3",
   "version": "3.8.5"
  }
 },
 "nbformat": 4,
 "nbformat_minor": 2
}
