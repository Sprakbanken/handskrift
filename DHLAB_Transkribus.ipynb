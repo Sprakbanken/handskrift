{
 "cells": [
  {
   "cell_type": "markdown",
   "metadata": {},
   "source": [
    "<a href=\"https://www.nb.no/\" style=\"display: flex; align-items: center;\">\n",
    "    <img src=\"./NB_logo_navy.png\" alt=\"Nasjonalbiblioteket\" width=\"150\" style=\"margin-right: 10px;\" />\n",
    "    <h1 style=\"margin: 0;\">Nasjonalbiblioteket</h1>\n",
    "</a>"
   ]
  },
  {
   "cell_type": "markdown",
   "metadata": {},
   "source": [
    "# Last inn bilder fra Nettbiblioteket til Transkribus"
   ]
  },
  {
   "cell_type": "code",
   "execution_count": null,
   "metadata": {},
   "outputs": [],
   "source": [
    "import requests\n",
    "\n",
    "import handskrift as hs"
   ]
  },
  {
   "cell_type": "markdown",
   "metadata": {},
   "source": [
    "## Logg inn\n",
    "\n",
    "Legg inn ditt Transkribus-brukernavn og passord."
   ]
  },
  {
   "cell_type": "code",
   "execution_count": null,
   "metadata": {},
   "outputs": [],
   "source": [
    "# OBS: Ikke del filen med brukernavn og passord\n",
    "\n",
    "USERNAME = \"BRUKERNAVN\"\n",
    "PASSWORD = 'PASSWORD'"
   ]
  },
  {
   "cell_type": "code",
   "execution_count": null,
   "metadata": {},
   "outputs": [],
   "source": [
    "# Opprett forbindelse til Transkribus. Denne er åpen i et par timer.\n",
    "\n",
    "my_session = requests.Session()\n",
    "login_response = my_session.post(\n",
    "    \"https://transkribus.eu/TrpServer/rest/auth/login\", data={\"user\": USERNAME, \"pw\": PASSWORD}\n",
    ")\n",
    "\n",
    "print(\n",
    "    \"Du er logget inn!\"\n",
    "    if login_response.ok\n",
    "    else \"OBS! Kunne ikke logge inn. Sjekk påloggingsinfoen og prøv igjen.\"\n",
    ")"
   ]
  },
  {
   "cell_type": "markdown",
   "metadata": {},
   "source": [
    "## Finn fram dokumenter\n",
    "\n",
    "Fyll inn søkeparametere i `query` for å finne dokumenter fra Nettbiblioteket ([nb.no](https://www.nb.no/search?mediatype=brev-og-manuskripter)).\n"
   ]
  },
  {
   "cell_type": "code",
   "execution_count": null,
   "metadata": {},
   "outputs": [],
   "source": [
    "query = {\n",
    "    \"filter\": [\n",
    "        \"mediatype:privatarkivmateriale\",\n",
    "        'api_title:\"TSarkA 2\"',\n",
    "    ],\n",
    "    \"digitalAccessibleOnly\": \"true\",\n",
    "    \"size\": 10,  # max 50\n",
    "    \"fragments\": 2,\n",
    "    \"profile\": \"nbdigital\",\n",
    "    \"scroll\": True,\n",
    "}\n",
    "\n",
    "sesamids = hs.run_query(query)"
   ]
  },
  {
   "cell_type": "code",
   "execution_count": null,
   "metadata": {},
   "outputs": [],
   "source": [
    "# Se hvilke id-er vi har hentet\n",
    "print(\"Antall sesam-IDer: \", len(sesamids))\n",
    "print(\"Sesam-IDer: \")\n",
    "print(\"\\n\".join(sesamids))"
   ]
  },
  {
   "cell_type": "markdown",
   "metadata": {},
   "source": [
    "## Sammenlign listen med ID-ene som allerede ligger i samlingen i Transkribus"
   ]
  },
  {
   "cell_type": "code",
   "execution_count": null,
   "metadata": {},
   "outputs": [],
   "source": [
    "# Fyll inn navnet på Transkribus-samlingen du vil laste opp til\n",
    "collection_name = \"\""
   ]
  },
  {
   "cell_type": "code",
   "execution_count": null,
   "metadata": {},
   "outputs": [],
   "source": [
    "# Hent ID-en til samlingen\n",
    "coll_id = hs.get_collection_id(collection_name, my_session)"
   ]
  },
  {
   "cell_type": "code",
   "execution_count": null,
   "metadata": {},
   "outputs": [],
   "source": [
    "# Hent dokument-ID-ene i Transkribus-samlingen\n",
    "transkribus_ids = hs.get_sesamids_from_transkribus_collection(coll_id, my_session)\n",
    "\n",
    "# Filtrer ID-ene vi har hentet fra Nettbiblioteket mot ID-ene vi har i Transkribus\n",
    "new_docs = hs.filter_sesamids(sesamids, transkribus_ids)\n",
    "print(f\"Antall nye dokumenter fra Nettbiblioteket: {len(new_docs)}\")\n",
    "\n",
    "# Lagre til fil\n",
    "hs.save_sesamids(new_docs, \"docs_to_upload.txt\")"
   ]
  },
  {
   "cell_type": "markdown",
   "metadata": {},
   "source": [
    "### Last opp fra NB til Transkribus\n",
    "\n",
    "OBS! Hvis det er flere enn 10 dokumenter som skal lastes opp kommer det til å ta en stund.\n",
    "\n",
    "Vi anbefaler heller å kjøre `handskrift.py` fra terminalen i en skjerm-uavhengig økt (med `screen`, `tmux` eller lignende).\n",
    "\n",
    "\n",
    "```shell\n",
    "tmux \n",
    "source .venv/bin/activate\n",
    "python handskrift.py -c $COLLECTION_ID -u $USERNAME -p $PASSWORD -i docs_to_upload.txt > log.txt\n",
    "```"
   ]
  },
  {
   "cell_type": "code",
   "execution_count": null,
   "metadata": {},
   "outputs": [],
   "source": [
    "hs.lastopp_transkribus(collId=coll_id, s=my_session, sesamids=new_docs)"
   ]
  },
  {
   "cell_type": "markdown",
   "metadata": {},
   "source": [
    "### Gå inn i Transkribus for å se på dokumentene\n",
    "\n",
    "https://lite.transkribus.eu/\n"
   ]
  }
 ],
 "metadata": {
  "kernelspec": {
   "display_name": ".venv",
   "language": "python",
   "name": "python3"
  },
  "language_info": {
   "codemirror_mode": {
    "name": "ipython",
    "version": 3
   },
   "file_extension": ".py",
   "mimetype": "text/x-python",
   "name": "python",
   "nbconvert_exporter": "python",
   "pygments_lexer": "ipython3",
   "version": "3.12.3"
  }
 },
 "nbformat": 4,
 "nbformat_minor": 2
}
